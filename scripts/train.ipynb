{
 "cells": [
  {
   "cell_type": "code",
   "execution_count": 1,
   "metadata": {},
   "outputs": [],
   "source": [
    "import torch\n",
    "from torchvision import transforms, utils\n",
    "from torch.utils.data import Dataset, DataLoader\n",
    "import torch.optim as optim\n",
    "import torch.backends.cudnn as cudnn\n",
    "import torch.nn as nn\n",
    "import torch.nn.functional as F\n",
    "from torch.autograd import Variable\n",
    "import torch.utils.data as Data\n",
    "import matplotlib.pyplot as plt\n",
    "import numpy as np\n",
    "from PIL import Image\n",
    "from skimage import io\n",
    "%matplotlib inline"
   ]
  },
  {
   "cell_type": "code",
   "execution_count": 2,
   "metadata": {},
   "outputs": [],
   "source": [
    "class BasicBlock(nn.Module):\n",
    "    expansion = 1\n",
    "\n",
    "    def __init__(self, in_planes, planes, stride=1):\n",
    "        super(BasicBlock, self).__init__()\n",
    "        self.conv1 = nn.Conv2d(in_planes, planes, kernel_size=3, stride=stride, padding=1, bias=False)\n",
    "        self.bn1 = nn.BatchNorm2d(planes)\n",
    "        self.conv2 = nn.Conv2d(planes, planes, kernel_size=3, stride=1, padding=1, bias=False)\n",
    "        self.bn2 = nn.BatchNorm2d(planes)\n",
    "\n",
    "        self.shortcut = nn.Sequential()\n",
    "        if stride != 1 or in_planes != self.expansion*planes:\n",
    "            self.shortcut = nn.Sequential(\n",
    "                nn.Conv2d(in_planes, self.expansion*planes, kernel_size=1, stride=stride, bias=False),\n",
    "                nn.BatchNorm2d(self.expansion*planes)\n",
    "            )\n",
    "\n",
    "    def forward(self, x):\n",
    "        out = F.relu(self.bn1(self.conv1(x)))\n",
    "        out = self.bn2(self.conv2(out))\n",
    "        out += self.shortcut(x)\n",
    "        out = F.relu(out)\n",
    "        return out\n",
    "        "
   ]
  },
  {
   "cell_type": "code",
   "execution_count": 3,
   "metadata": {},
   "outputs": [],
   "source": [
    "class ResNet(nn.Module):\n",
    "    def __init__(self, block, num_blocks, num_output=4):\n",
    "        super(ResNet,self).__init__()\n",
    "        self.in_planes = 64\n",
    "        \n",
    "        self.conv1 = nn.Conv2d(3,64,kernel_size=3, stride=1, padding=1, bias=False)\n",
    "        self.bn1 = nn.BatchNorm2d(64)\n",
    "        self.layer1 = self._make_layer(block, 64, num_blocks[0], stride=1)\n",
    "        self.layer2 = self._make_layer(block, 128, num_blocks[1], stride=2)\n",
    "        self.layer3 = self._make_layer(block, 256, num_blocks[2], stride=2)\n",
    "        self.layer4 = self._make_layer(block, 512, num_blocks[3], stride=2)\n",
    "        #self.linear = nn.Linear(512*block.expansion, num_output) \n",
    "        self.linear = nn.Linear(153600, num_output)     \n",
    "\n",
    "        \n",
    "    def _make_layer(self, block, planes, num_blocks, stride):\n",
    "        strides = [stride] + [1]*(num_blocks-1)\n",
    "        layers = []\n",
    "        for stride in strides:\n",
    "            layers.append(block(self.in_planes, planes, stride))\n",
    "            self.in_planes = planes * block.expansion\n",
    "        return nn.Sequential(*layers)\n",
    "\n",
    "    def forward(self, x):\n",
    "        out = F.relu(self.bn1(self.conv1(x)))\n",
    "        out = self.layer1(out)\n",
    "        out = self.layer2(out)\n",
    "        out = self.layer3(out)\n",
    "        out = self.layer4(out)\n",
    "        out = F.avg_pool2d(out, 4)\n",
    "        out = out.view(out.size(0), -1)\n",
    "        out = self.linear(out)\n",
    "        return out"
   ]
  },
  {
   "cell_type": "code",
   "execution_count": 4,
   "metadata": {},
   "outputs": [],
   "source": [
    "def ResNet18():\n",
    "    return ResNet(BasicBlock, [2,2,2,2])\n",
    "def image_loader(image_name):\n",
    "    image = Image.open(image_name).convert('RGB')\n",
    "    return image\n",
    "transform = transforms.ToTensor()"
   ]
  },
  {
   "cell_type": "code",
   "execution_count": 5,
   "metadata": {},
   "outputs": [],
   "source": [
    "device = 'cuda' if torch.cuda.is_available() else 'cpu'\n",
    "start_epoch = 0\n",
    "net = ResNet18().to(device)\n",
    "if device == 'cuda':\n",
    "    net = torch.nn.DataParallel(net)\n",
    "    cudnn.benchmark = True"
   ]
  },
  {
   "cell_type": "code",
   "execution_count": 6,
   "metadata": {},
   "outputs": [],
   "source": [
    "class GateDataset(Dataset):\n",
    "    def __init__(self, txt, transform, loader):\n",
    "        f=open(txt, 'r')\n",
    "        data = []\n",
    "        count = 0\n",
    "        for line in f:\n",
    "            line = line.strip('\\n')\n",
    "            line = line.rstrip()\n",
    "            words = line.split()\n",
    "            label = np.array([float(words[1]),float(words[2]),float(words[3]),float(words[4])])\n",
    "            label = torch.from_numpy(label)\n",
    "            if count%10==0:\n",
    "                data.append((words[0],label))\n",
    "            count+=1\n",
    "        self.data = data\n",
    "        self.transform = transform\n",
    "        self.loader = loader\n",
    "        \n",
    "    \n",
    "    def __getitem__(self, index):\n",
    "        img_file, label = self.data[index]\n",
    "        img_file = './gate_img/'+img_file\n",
    "        img = self.loader(img_file)\n",
    "        if self.transform is not None:\n",
    "            img = self.transform(img)\n",
    "        return img, label\n",
    "    \n",
    "    def __len__(self):\n",
    "        return len(self.data)   "
   ]
  },
  {
   "cell_type": "code",
   "execution_count": 7,
   "metadata": {},
   "outputs": [],
   "source": [
    "train_data = GateDataset(txt='./gate_img/ground_truth.txt',transform=transforms.ToTensor(),loader=image_loader)\n",
    "data_loader = DataLoader(train_data, batch_size=2,shuffle=True)\n"
   ]
  },
  {
   "cell_type": "code",
   "execution_count": 8,
   "metadata": {},
   "outputs": [],
   "source": [
    "# num_block = [2,2,2,2]\n",
    "# global in_planes\n",
    "# in_planes = 64\n",
    "# def _make_layer(block, planes, num_blocks, stride):\n",
    "#     strides = [stride] + [1]*(num_blocks-1)\n",
    "#     layers = []\n",
    "#     global in_planes\n",
    "#     for stride in strides:\n",
    "#         layers.append(block(in_planes, planes, stride))\n",
    "#         in_planes = planes * block.expansion\n",
    "#     return nn.Sequential(*layers)\n",
    "\n",
    "\n",
    "\n",
    "# print(len(data_loader))\n",
    "# images, labels = next(iter(data_loader))\n",
    "# print(images.size())\n",
    "# conv1 = nn.Conv2d(3, 64, kernel_size=3, stride=1, padding=1, bias=False)\n",
    "# bn1 = nn.BatchNorm2d(64)\n",
    "# out = F.relu(bn1(conv1(images)))\n",
    "# layer1 = _make_layer(BasicBlock,64,num_block[0],stride=1)\n",
    "\n",
    "# out = layer1(out)\n",
    "# print(out.size())\n",
    "# layer2 = _make_layer(BasicBlock,128,num_block[1],stride=2)\n",
    "# out = layer2(out)\n",
    "# print(out.size())\n",
    "# layer3 = _make_layer(BasicBlock,256,num_block[2],stride=2)\n",
    "# out = layer3(out)\n",
    "# print(out.size())\n",
    "# layer4 = _make_layer(BasicBlock,512,num_block[3],stride=2)\n",
    "# out = layer4(out)\n",
    "# print(out.size())\n",
    "# out = F.avg_pool2d(out, 4)\n",
    "# print(out.size())\n",
    "# out = out.view(out.size(0), -1)\n",
    "# print(out.size())\n",
    "# linear = nn.Linear(153600, 4)\n",
    "# out = linear(out)\n",
    "# print(out.size())\n",
    "\n",
    "\n",
    "\n",
    "\n"
   ]
  },
  {
   "cell_type": "code",
   "execution_count": 15,
   "metadata": {},
   "outputs": [],
   "source": [
    "#optimizer = optim.SGD(net.parameters(), lr=0.002, momentum=0.9, weight_decay=5e-4)\n",
    "#scheduler = optim.lr_scheduler.MultiStepLR(optimizer, milestones=[50, 150], gamma=0.1, last_epoch=-1)\n",
    "optimizer = torch.optim.SGD(net.parameters(), lr=0.01)\n",
    "criterion = nn.SmoothL1Loss()"
   ]
  },
  {
   "cell_type": "code",
   "execution_count": 14,
   "metadata": {},
   "outputs": [],
   "source": [
    "def train(epoch, net):\n",
    "    #print('\\nEpoch: {} ==> lr: {}'.format(epoch, scheduler.get_last_lr()))\n",
    "    net.train()\n",
    "    train_loss = 0\n",
    "    for batch_idx, (inputs, targets) in enumerate(data_loader):\n",
    "        #inputs, targets = inputs.to(device), targets.to(device)\n",
    "        inputs = torch.tensor(inputs, dtype=torch.float32).to(device)\n",
    "        targets = torch.tensor(targets, dtype=torch.float32).to(device)\n",
    "        optimizer.zero_grad()\n",
    "        outputs = net(inputs)\n",
    "        loss = criterion(outputs, targets)\n",
    "        loss.backward()\n",
    "        optimizer.step()\n",
    "        train_loss += loss.item()\n",
    "        print(loss.item())\n",
    "        "
   ]
  },
  {
   "cell_type": "code",
   "execution_count": 16,
   "metadata": {},
   "outputs": [
    {
     "name": "stdout",
     "output_type": "stream",
     "text": [
      "==> Training parameters:\n",
      "        start_epoch = 1\n",
      "        lr @epoch=0 = 0.1\n",
      "==> Starting training...\n"
     ]
    },
    {
     "name": "stderr",
     "output_type": "stream",
     "text": [
      "/home/colin/anaconda3/envs/deep_uncertainty/lib/python3.6/site-packages/ipykernel_launcher.py:7: UserWarning: To copy construct from a tensor, it is recommended to use sourceTensor.clone().detach() or sourceTensor.clone().detach().requires_grad_(True), rather than torch.tensor(sourceTensor).\n",
      "  import sys\n",
      "/home/colin/anaconda3/envs/deep_uncertainty/lib/python3.6/site-packages/ipykernel_launcher.py:8: UserWarning: To copy construct from a tensor, it is recommended to use sourceTensor.clone().detach() or sourceTensor.clone().detach().requires_grad_(True), rather than torch.tensor(sourceTensor).\n",
      "  \n"
     ]
    },
    {
     "name": "stdout",
     "output_type": "stream",
     "text": [
      "1.2352497577667236\n",
      "0.6581450700759888\n",
      "0.4809007942676544\n",
      "1.5059890747070312\n",
      "0.5827649831771851\n",
      "1.7294700145721436\n",
      "0.6338905096054077\n",
      "0.4007173776626587\n",
      "1.1681199073791504\n",
      "0.3670607805252075\n",
      "1.0789848566055298\n",
      "1.1839946508407593\n",
      "1.1843847036361694\n",
      "1.095463752746582\n",
      "0.4706200957298279\n",
      "1.036338210105896\n",
      "0.34247511625289917\n",
      "0.5407965779304504\n",
      "0.7143872976303101\n",
      "0.7786238193511963\n",
      "0.5346927046775818\n",
      "0.9798823595046997\n",
      "1.5010101795196533\n",
      "0.9740440249443054\n",
      "0.7524422407150269\n",
      "0.400176465511322\n",
      "1.2472015619277954\n",
      "0.5607710480690002\n",
      "0.8148735165596008\n",
      "0.7624585628509521\n",
      "1.1414839029312134\n",
      "1.4614002704620361\n",
      "0.40822896361351013\n",
      "0.4559836983680725\n",
      "1.0292688608169556\n",
      "0.4829498529434204\n",
      "0.44666868448257446\n",
      "0.6986138820648193\n",
      "0.8823777437210083\n",
      "0.7207658290863037\n",
      "0.5635466575622559\n",
      "1.0012590885162354\n",
      "0.6753945350646973\n"
     ]
    },
    {
     "ename": "KeyboardInterrupt",
     "evalue": "",
     "output_type": "error",
     "traceback": [
      "\u001b[0;31m---------------------------------------------------------------------------\u001b[0m",
      "\u001b[0;31mKeyboardInterrupt\u001b[0m                         Traceback (most recent call last)",
      "\u001b[0;32m<ipython-input-16-ef2f6ead241b>\u001b[0m in \u001b[0;36m<module>\u001b[0;34m\u001b[0m\n\u001b[1;32m      5\u001b[0m \u001b[0;32mfor\u001b[0m \u001b[0mepoch\u001b[0m \u001b[0;32min\u001b[0m \u001b[0mrange\u001b[0m\u001b[0;34m(\u001b[0m\u001b[0;36m0\u001b[0m\u001b[0;34m,\u001b[0m \u001b[0;36m5\u001b[0m\u001b[0;34m)\u001b[0m\u001b[0;34m:\u001b[0m\u001b[0;34m\u001b[0m\u001b[0;34m\u001b[0m\u001b[0m\n\u001b[1;32m      6\u001b[0m     \u001b[0;32mif\u001b[0m \u001b[0mepoch\u001b[0m\u001b[0;34m>\u001b[0m\u001b[0mstart_epoch\u001b[0m\u001b[0;34m:\u001b[0m\u001b[0;34m\u001b[0m\u001b[0;34m\u001b[0m\u001b[0m\n\u001b[0;32m----> 7\u001b[0;31m         \u001b[0mtrain\u001b[0m\u001b[0;34m(\u001b[0m\u001b[0mepoch\u001b[0m\u001b[0;34m,\u001b[0m \u001b[0mnet\u001b[0m\u001b[0;34m)\u001b[0m\u001b[0;34m\u001b[0m\u001b[0;34m\u001b[0m\u001b[0m\n\u001b[0m\u001b[1;32m      8\u001b[0m     \u001b[0;31m#scheduler.step()\u001b[0m\u001b[0;34m\u001b[0m\u001b[0;34m\u001b[0m\u001b[0;34m\u001b[0m\u001b[0m\n",
      "\u001b[0;32m<ipython-input-14-06554a5a97bf>\u001b[0m in \u001b[0;36mtrain\u001b[0;34m(epoch, net)\u001b[0m\n\u001b[1;32m     12\u001b[0m         \u001b[0mloss\u001b[0m\u001b[0;34m.\u001b[0m\u001b[0mbackward\u001b[0m\u001b[0;34m(\u001b[0m\u001b[0;34m)\u001b[0m\u001b[0;34m\u001b[0m\u001b[0;34m\u001b[0m\u001b[0m\n\u001b[1;32m     13\u001b[0m         \u001b[0moptimizer\u001b[0m\u001b[0;34m.\u001b[0m\u001b[0mstep\u001b[0m\u001b[0;34m(\u001b[0m\u001b[0;34m)\u001b[0m\u001b[0;34m\u001b[0m\u001b[0;34m\u001b[0m\u001b[0m\n\u001b[0;32m---> 14\u001b[0;31m         \u001b[0mtrain_loss\u001b[0m \u001b[0;34m+=\u001b[0m \u001b[0mloss\u001b[0m\u001b[0;34m.\u001b[0m\u001b[0mitem\u001b[0m\u001b[0;34m(\u001b[0m\u001b[0;34m)\u001b[0m\u001b[0;34m\u001b[0m\u001b[0;34m\u001b[0m\u001b[0m\n\u001b[0m\u001b[1;32m     15\u001b[0m         \u001b[0mprint\u001b[0m\u001b[0;34m(\u001b[0m\u001b[0mloss\u001b[0m\u001b[0;34m.\u001b[0m\u001b[0mitem\u001b[0m\u001b[0;34m(\u001b[0m\u001b[0;34m)\u001b[0m\u001b[0;34m)\u001b[0m\u001b[0;34m\u001b[0m\u001b[0;34m\u001b[0m\u001b[0m\n\u001b[1;32m     16\u001b[0m \u001b[0;34m\u001b[0m\u001b[0m\n",
      "\u001b[0;31mKeyboardInterrupt\u001b[0m: "
     ]
    }
   ],
   "source": [
    "print('==> Training parameters:')\n",
    "print('        start_epoch = {}'.format(start_epoch+1))\n",
    "print('        lr @epoch=0 = {}'.format(0.1))\n",
    "print('==> Starting training...')\n",
    "for epoch in range(0, 5):\n",
    "    if epoch>start_epoch:\n",
    "        train(epoch, net)\n",
    "    #scheduler.step()"
   ]
  },
  {
   "cell_type": "code",
   "execution_count": null,
   "metadata": {},
   "outputs": [],
   "source": [
    "net"
   ]
  },
  {
   "cell_type": "code",
   "execution_count": null,
   "metadata": {},
   "outputs": [],
   "source": []
  },
  {
   "cell_type": "code",
   "execution_count": null,
   "metadata": {},
   "outputs": [],
   "source": []
  }
 ],
 "metadata": {
  "kernelspec": {
   "display_name": "Python [conda env:deep_uncertainty]",
   "language": "python",
   "name": "conda-env-deep_uncertainty-py"
  },
  "language_info": {
   "codemirror_mode": {
    "name": "ipython",
    "version": 3
   },
   "file_extension": ".py",
   "mimetype": "text/x-python",
   "name": "python",
   "nbconvert_exporter": "python",
   "pygments_lexer": "ipython3",
   "version": "3.6.12"
  }
 },
 "nbformat": 4,
 "nbformat_minor": 4
}
